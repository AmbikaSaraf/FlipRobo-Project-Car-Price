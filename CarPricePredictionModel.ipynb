{
 "cells": [
  {
   "cell_type": "markdown",
   "metadata": {},
   "source": [
    "# Car Price Prediction"
   ]
  },
  {
   "cell_type": "markdown",
   "metadata": {},
   "source": [
    "Covid-19 has impacted the market in several ways, the car market is also one hit by this. Now some cars are in demand hence making them costly and some are not in demand hence cheaper. One of our clients works with small traders, who sell used cars. With the change in market due to covid 19 impact, our client is facing problems with their previous car price valuation machine learning models. So, they are looking for new machine learning models from new data. We have to make car price valuation model. This project contains two phase-\n",
    "\n",
    "1) Data Collection Phase\n",
    "\n",
    "2) Model Building Phase"
   ]
  },
  {
   "cell_type": "markdown",
   "metadata": {},
   "source": [
    "Data has been collected from websites like olx.in and cars24.com using Selenium technique of web scraping."
   ]
  },
  {
   "cell_type": "markdown",
   "metadata": {},
   "source": [
    "The Data Collected is in raw form here we will be cleaning data first. It also consists of null values which we have dealt with. This project further consists of regression model building and finding the best model. We have further gained conclusions from various EDAs done. "
   ]
  },
  {
   "cell_type": "markdown",
   "metadata": {},
   "source": [
    "## Data Description"
   ]
  },
  {
   "cell_type": "markdown",
   "metadata": {},
   "source": [
    "### Importing Libraries"
   ]
  },
  {
   "cell_type": "code",
   "execution_count": 1,
   "metadata": {},
   "outputs": [],
   "source": [
    "import pandas as pd\n",
    "import numpy as np\n",
    "import matplotlib.pyplot as plt\n",
    "import seaborn as sns\n",
    "from scipy import stats\n",
    "from sklearn.preprocessing import StandardScaler, LabelEncoder\n",
    "from sklearn.impute import KNNImputer\n",
    "from sklearn.linear_model import LogisticRegression, LinearRegression, Ridge, Lasso, RidgeCV, LassoCV\n",
    "from sklearn.neighbors import KNeighborsClassifier, KNeighborsRegressor\n",
    "from sklearn.model_selection import train_test_split, GridSearchCV\n",
    "from sklearn.metrics import accuracy_score,confusion_matrix, classification_report, roc_curve, roc_auc_score\n",
    "from sklearn.metrics import r2_score,mean_absolute_error, mean_squared_error\n",
    "from sklearn.model_selection import KFold, cross_val_score\n",
    "from sklearn.ensemble import RandomForestRegressor, GradientBoostingRegressor\n",
    "from sklearn.svm import SVC, SVR\n",
    "from sklearn.tree import DecisionTreeClassifier, DecisionTreeRegressor\n",
    "from sklearn.utils import resample\n",
    "import pickle\n",
    "\n",
    "import warnings\n",
    "warnings.filterwarnings('ignore')"
   ]
  },
  {
   "cell_type": "markdown",
   "metadata": {},
   "source": [
    "### Loading Dataset"
   ]
  },
  {
   "cell_type": "code",
   "execution_count": 2,
   "metadata": {},
   "outputs": [
    {
     "data": {
      "text/html": [
       "<div>\n",
       "<style scoped>\n",
       "    .dataframe tbody tr th:only-of-type {\n",
       "        vertical-align: middle;\n",
       "    }\n",
       "\n",
       "    .dataframe tbody tr th {\n",
       "        vertical-align: top;\n",
       "    }\n",
       "\n",
       "    .dataframe thead th {\n",
       "        text-align: right;\n",
       "    }\n",
       "</style>\n",
       "<table border=\"1\" class=\"dataframe\">\n",
       "  <thead>\n",
       "    <tr style=\"text-align: right;\">\n",
       "      <th></th>\n",
       "      <th>Unnamed: 0</th>\n",
       "      <th>CarName</th>\n",
       "      <th>Owner</th>\n",
       "      <th>YearofPurchase</th>\n",
       "      <th>Transmission</th>\n",
       "      <th>Model</th>\n",
       "      <th>Distance</th>\n",
       "      <th>Fuel</th>\n",
       "      <th>Price</th>\n",
       "      <th>website</th>\n",
       "      <th>Product_url</th>\n",
       "    </tr>\n",
       "  </thead>\n",
       "  <tbody>\n",
       "    <tr>\n",
       "      <th>0</th>\n",
       "      <td>0</td>\n",
       "      <td>Hyundai Elantra (2013)</td>\n",
       "      <td>1st</td>\n",
       "      <td>2013.0</td>\n",
       "      <td>MANUAL</td>\n",
       "      <td>1.6 SX Option</td>\n",
       "      <td>88147.0 KM</td>\n",
       "      <td>DIESEL</td>\n",
       "      <td>₹ 5,90,000</td>\n",
       "      <td>olx.in</td>\n",
       "      <td>https://www.olx.in/item/hyundai-elantra-16-sx-...</td>\n",
       "    </tr>\n",
       "    <tr>\n",
       "      <th>1</th>\n",
       "      <td>1</td>\n",
       "      <td>Hyundai Xcent (2016)</td>\n",
       "      <td>1st</td>\n",
       "      <td>2016.0</td>\n",
       "      <td>MANUAL</td>\n",
       "      <td>1.2 CRDi SX</td>\n",
       "      <td>59000.0 KM</td>\n",
       "      <td>DIESEL</td>\n",
       "      <td>₹ 5,25,000</td>\n",
       "      <td>olx.in</td>\n",
       "      <td>https://www.olx.in/item/hyundai-xcent-12-crdi-...</td>\n",
       "    </tr>\n",
       "    <tr>\n",
       "      <th>2</th>\n",
       "      <td>2</td>\n",
       "      <td>Maruti Suzuki Alto K10 (2011)</td>\n",
       "      <td>1st</td>\n",
       "      <td>2011.0</td>\n",
       "      <td>MANUAL</td>\n",
       "      <td>VXI</td>\n",
       "      <td>68000.0 KM</td>\n",
       "      <td>PETROL</td>\n",
       "      <td>₹ 2,15,000</td>\n",
       "      <td>olx.in</td>\n",
       "      <td>https://www.olx.in/item/maruti-suzuki-alto-k10...</td>\n",
       "    </tr>\n",
       "    <tr>\n",
       "      <th>3</th>\n",
       "      <td>3</td>\n",
       "      <td>Honda City (2014)</td>\n",
       "      <td>Second</td>\n",
       "      <td>2014.0</td>\n",
       "      <td>MANUAL</td>\n",
       "      <td>2014-2015 i VTEC V</td>\n",
       "      <td>56553 KM</td>\n",
       "      <td>PETROL</td>\n",
       "      <td>₹ 5,75,000</td>\n",
       "      <td>olx.in</td>\n",
       "      <td>https://www.olx.in/item/honda-city-with-excell...</td>\n",
       "    </tr>\n",
       "    <tr>\n",
       "      <th>4</th>\n",
       "      <td>4</td>\n",
       "      <td>Renault Duster (2016)</td>\n",
       "      <td>First</td>\n",
       "      <td>2016.0</td>\n",
       "      <td>MANUAL</td>\n",
       "      <td>85PS Diesel RxS</td>\n",
       "      <td>50509 KM</td>\n",
       "      <td>DIESEL</td>\n",
       "      <td>₹ 6,00,000</td>\n",
       "      <td>olx.in</td>\n",
       "      <td>https://www.olx.in/item/renault-duster-2016-di...</td>\n",
       "    </tr>\n",
       "  </tbody>\n",
       "</table>\n",
       "</div>"
      ],
      "text/plain": [
       "   Unnamed: 0                        CarName   Owner  YearofPurchase  \\\n",
       "0           0         Hyundai Elantra (2013)     1st          2013.0   \n",
       "1           1           Hyundai Xcent (2016)     1st          2016.0   \n",
       "2           2  Maruti Suzuki Alto K10 (2011)     1st          2011.0   \n",
       "3           3              Honda City (2014)  Second          2014.0   \n",
       "4           4          Renault Duster (2016)   First          2016.0   \n",
       "\n",
       "  Transmission               Model    Distance    Fuel       Price website  \\\n",
       "0       MANUAL       1.6 SX Option  88147.0 KM  DIESEL  ₹ 5,90,000  olx.in   \n",
       "1       MANUAL         1.2 CRDi SX  59000.0 KM  DIESEL  ₹ 5,25,000  olx.in   \n",
       "2       MANUAL                 VXI  68000.0 KM  PETROL  ₹ 2,15,000  olx.in   \n",
       "3       MANUAL  2014-2015 i VTEC V    56553 KM  PETROL  ₹ 5,75,000  olx.in   \n",
       "4       MANUAL     85PS Diesel RxS    50509 KM  DIESEL  ₹ 6,00,000  olx.in   \n",
       "\n",
       "                                         Product_url  \n",
       "0  https://www.olx.in/item/hyundai-elantra-16-sx-...  \n",
       "1  https://www.olx.in/item/hyundai-xcent-12-crdi-...  \n",
       "2  https://www.olx.in/item/maruti-suzuki-alto-k10...  \n",
       "3  https://www.olx.in/item/honda-city-with-excell...  \n",
       "4  https://www.olx.in/item/renault-duster-2016-di...  "
      ]
     },
     "execution_count": 2,
     "metadata": {},
     "output_type": "execute_result"
    }
   ],
   "source": [
    "df=pd.read_csv(r\"data.csv\")\n",
    "df.head()"
   ]
  },
  {
   "cell_type": "code",
   "execution_count": 3,
   "metadata": {},
   "outputs": [
    {
     "name": "stdout",
     "output_type": "stream",
     "text": [
      "<class 'pandas.core.frame.DataFrame'>\n",
      "RangeIndex: 1800 entries, 0 to 1799\n",
      "Data columns (total 11 columns):\n",
      "Unnamed: 0        1800 non-null int64\n",
      "CarName           1779 non-null object\n",
      "Owner             1779 non-null object\n",
      "YearofPurchase    1799 non-null float64\n",
      "Transmission      1757 non-null object\n",
      "Model             1741 non-null object\n",
      "Distance          1779 non-null object\n",
      "Fuel              1779 non-null object\n",
      "Price             1779 non-null object\n",
      "website           1800 non-null object\n",
      "Product_url       1800 non-null object\n",
      "dtypes: float64(1), int64(1), object(9)\n",
      "memory usage: 154.8+ KB\n"
     ]
    }
   ],
   "source": [
    "df.info()"
   ]
  },
  {
   "cell_type": "markdown",
   "metadata": {},
   "source": [
    "All The data present is in object data type except Unnamed: 0 column."
   ]
  },
  {
   "cell_type": "code",
   "execution_count": 4,
   "metadata": {
    "scrolled": true
   },
   "outputs": [
    {
     "data": {
      "text/plain": [
       "(1800, 11)"
      ]
     },
     "execution_count": 4,
     "metadata": {},
     "output_type": "execute_result"
    }
   ],
   "source": [
    "df.shape"
   ]
  },
  {
   "cell_type": "markdown",
   "metadata": {},
   "source": [
    "No. of rows= 1800\n",
    "\n",
    "No. of columns= 11"
   ]
  },
  {
   "cell_type": "code",
   "execution_count": 5,
   "metadata": {},
   "outputs": [
    {
     "data": {
      "text/plain": [
       "Unnamed: 0         0\n",
       "CarName           21\n",
       "Owner             21\n",
       "YearofPurchase     1\n",
       "Transmission      43\n",
       "Model             59\n",
       "Distance          21\n",
       "Fuel              21\n",
       "Price             21\n",
       "website            0\n",
       "Product_url        0\n",
       "dtype: int64"
      ]
     },
     "execution_count": 5,
     "metadata": {},
     "output_type": "execute_result"
    }
   ],
   "source": [
    "df.isnull().sum()"
   ]
  },
  {
   "cell_type": "markdown",
   "metadata": {},
   "source": [
    "We observe null values in our data and so we will delete rows having null data with a threshold of 8 columns."
   ]
  },
  {
   "cell_type": "code",
   "execution_count": 6,
   "metadata": {},
   "outputs": [],
   "source": [
    "df.dropna(thresh=8,axis=0,inplace=True)"
   ]
  },
  {
   "cell_type": "code",
   "execution_count": 7,
   "metadata": {},
   "outputs": [],
   "source": [
    "df.reset_index(inplace=True)"
   ]
  },
  {
   "cell_type": "code",
   "execution_count": 8,
   "metadata": {
    "scrolled": true
   },
   "outputs": [
    {
     "data": {
      "text/plain": [
       "index              0\n",
       "Unnamed: 0         0\n",
       "CarName            0\n",
       "Owner              0\n",
       "YearofPurchase     0\n",
       "Transmission      35\n",
       "Model             38\n",
       "Distance           0\n",
       "Fuel               0\n",
       "Price              0\n",
       "website            0\n",
       "Product_url        0\n",
       "dtype: int64"
      ]
     },
     "execution_count": 8,
     "metadata": {},
     "output_type": "execute_result"
    }
   ],
   "source": [
    "df.isnull().sum()"
   ]
  },
  {
   "cell_type": "markdown",
   "metadata": {},
   "source": [
    "We still observe null values and now we will use imputation technique to deal with it."
   ]
  },
  {
   "cell_type": "markdown",
   "metadata": {},
   "source": [
    "## Data Cleaning"
   ]
  },
  {
   "cell_type": "code",
   "execution_count": 9,
   "metadata": {
    "scrolled": false
   },
   "outputs": [
    {
     "data": {
      "text/plain": [
       "<matplotlib.axes._subplots.AxesSubplot at 0x1a1eae73b00>"
      ]
     },
     "execution_count": 9,
     "metadata": {},
     "output_type": "execute_result"
    },
    {
     "data": {
      "image/png": "[encoded data removed]",
      "text/plain": [
       "<Figure size 432x288 with 1 Axes>"
      ]
     },
     "metadata": {
      "needs_background": "light"
     },
     "output_type": "display_data"
    }
   ],
   "source": [
    "sns.countplot(df[\"Transmission\"])"
   ]
  },
  {
   "cell_type": "code",
   "execution_count": 10,
   "metadata": {},
   "outputs": [
    {
     "data": {
      "text/plain": [
       "Manual       1647\n",
       "Automatic      97\n",
       "Name: Transmission, dtype: int64"
      ]
     },
     "execution_count": 10,
     "metadata": {},
     "output_type": "execute_result"
    }
   ],
   "source": [
    "df[\"Transmission\"].replace(\"MANUAL\",\"Manual\",True)\n",
    "df[\"Transmission\"].replace(\"AUTOMATIC\",\"Automatic\",True)\n",
    "df[\"Transmission\"].value_counts()"
   ]
  },
  {
   "cell_type": "code",
   "execution_count": 11,
   "metadata": {},
   "outputs": [],
   "source": [
    "df[\"Transmission\"].fillna(\"Manual\",inplace=True)"
   ]
  },
  {
   "cell_type": "code",
   "execution_count": 12,
   "metadata": {},
   "outputs": [
    {
     "data": {
      "text/plain": [
       "LXI Manual                          108\n",
       "VXI Manual                           95\n",
       "VDI Manual                           77\n",
       "VDI BS IV Manual                     32\n",
       "DELTA 1.2 K12 Manual                 29\n",
       "Others                               26\n",
       "VDI ABS Manual                       23\n",
       "VXI                                  23\n",
       "LXI                                  20\n",
       "VDI                                  20\n",
       "ZDI Manual                           20\n",
       "D Lite Plus                          16\n",
       "VDi                                  15\n",
       "LDI                                  15\n",
       "LS                                   13\n",
       "RXL Manual                           13\n",
       "ZDi                                  13\n",
       "1.2 CRDi SX                          13\n",
       "MAGNA 1.2 KAPPA VTVT Manual          12\n",
       "MAGNA 1.2 KAPPA2 Manual              12\n",
       "2.5 V 7 STR                          11\n",
       "K10 VXi (O)                          11\n",
       "XZ                                   11\n",
       "320d GT Luxury Line                  11\n",
       "2010-2015 4X4                        11\n",
       "1.2P Titanium MT                     11\n",
       "eCS GLS                              11\n",
       "XG eRLX Euro III                     11\n",
       "110PS Diesel RxZ                     11\n",
       "2014-2017 VDi Plus SHVS              11\n",
       "                                   ... \n",
       "W8 FWD Manual                         1\n",
       "SPORTZ (O) 1.2 AT VTVT Manual         1\n",
       "RXT 1.0 EASY-R AT                     1\n",
       "HIGHLINE 1.5 Manual                   1\n",
       "ZDI Plus AMT Automatic                1\n",
       "SHARP DCT PETROL Automatic            1\n",
       "1.4 E PLUS CRDI                       1\n",
       "LX Manual                             1\n",
       "Touring Sport Diesel MT Manual        1\n",
       "1.6 EXI LTD Manual                    1\n",
       "2.8 4x2 AT Automatic                  1\n",
       "G SP Manual                           1\n",
       "SUMMUM D5 Automatic                   1\n",
       "S10 Manual                            1\n",
       "TITANIUM 1.2 TI-VCT MT                1\n",
       "2.4 VX 7 STR Manual                   1\n",
       "FLUIDIC 1.6 VTVT SX AT Automatic      1\n",
       "RXE MT PETROL Manual                  1\n",
       "Revotorq XZ (O) Manual                1\n",
       "HIGHLINE PETROL AT Automatic          1\n",
       "1.2 SV PETROL Manual                  1\n",
       "XL CVT (PETROL) Automatic             1\n",
       "SPORTZ 1.2 O Manual                   1\n",
       "D 4D G Manual                         1\n",
       "XM 1.5 Manual                         1\n",
       "ZXI AT SHVS Automatic                 1\n",
       "ASTA 1.2 CRDI Manual                  1\n",
       "ZETA 1.4 VVT Manual                   1\n",
       "GLS Manual                            1\n",
       "ALPHA SHVS MT                         1\n",
       "Name: Model, Length: 426, dtype: int64"
      ]
     },
     "execution_count": 12,
     "metadata": {},
     "output_type": "execute_result"
    }
   ],
   "source": [
    "df[\"Model\"].value_counts()"
   ]
  },
  {
   "cell_type": "code",
   "execution_count": 13,
   "metadata": {},
   "outputs": [],
   "source": [
    "df[\"Model\"].fillna(value=\"Others\",inplace=True)"
   ]
  },
  {
   "cell_type": "code",
   "execution_count": 14,
   "metadata": {},
   "outputs": [],
   "source": [
    "p=[]\n",
    "price=df[\"Price\"]\n",
    "for i in range(len(price)):\n",
    "    st=price[i]\n",
    "    st=st.replace(\",\",\"\")\n",
    "    p.append(st[2:])\n",
    "df[\"Price\"]=p"
   ]
  },
  {
   "cell_type": "code",
   "execution_count": 15,
   "metadata": {},
   "outputs": [],
   "source": [
    "d=[]\n",
    "dist=df[\"Distance\"]\n",
    "for i in range(len(dist)):\n",
    "    st=dist[i]\n",
    "    st=st.replace(\",\",\"\")\n",
    "    d.append(st[:-3])\n",
    "df[\"Distance\"]=d"
   ]
  },
  {
   "cell_type": "code",
   "execution_count": 16,
   "metadata": {},
   "outputs": [
    {
     "data": {
      "text/plain": [
       "index               int64\n",
       "Unnamed: 0          int64\n",
       "CarName            object\n",
       "Owner              object\n",
       "YearofPurchase    float64\n",
       "Transmission       object\n",
       "Model              object\n",
       "Distance           object\n",
       "Fuel               object\n",
       "Price               int32\n",
       "website            object\n",
       "Product_url        object\n",
       "dtype: object"
      ]
     },
     "execution_count": 16,
     "metadata": {},
     "output_type": "execute_result"
    }
   ],
   "source": [
    "df_type_dict={'Price':int}\n",
    "df=df.astype(df_type_dict)\n",
    "df.dtypes"
   ]
  },
  {
   "cell_type": "code",
   "execution_count": 17,
   "metadata": {},
   "outputs": [
    {
     "data": {
      "text/plain": [
       "index               int64\n",
       "Unnamed: 0          int64\n",
       "CarName            object\n",
       "Owner              object\n",
       "YearofPurchase    float64\n",
       "Transmission       object\n",
       "Model              object\n",
       "Distance          float64\n",
       "Fuel               object\n",
       "Price               int32\n",
       "website            object\n",
       "Product_url        object\n",
       "dtype: object"
      ]
     },
     "execution_count": 17,
     "metadata": {},
     "output_type": "execute_result"
    }
   ],
   "source": [
    "df_type_dict={'Distance':float}\n",
    "df=df.astype(df_type_dict)\n",
    "df.dtypes"
   ]
  },
  {
   "cell_type": "code",
   "execution_count": 18,
   "metadata": {},
   "outputs": [
    {
     "data": {
      "text/plain": [
       "1st Owner    807\n",
       "1st          427\n",
       "2nd          182\n",
       "2nd Owner    166\n",
       "First         62\n",
       "3rd           45\n",
       "--            34\n",
       "3rd Owner     25\n",
       "Second        16\n",
       "4th           11\n",
       "Third          2\n",
       "4th Owner      2\n",
       "Name: Owner, dtype: int64"
      ]
     },
     "execution_count": 18,
     "metadata": {},
     "output_type": "execute_result"
    }
   ],
   "source": [
    "df[\"Owner\"].value_counts()"
   ]
  },
  {
   "cell_type": "code",
   "execution_count": 19,
   "metadata": {},
   "outputs": [],
   "source": [
    "owner=[]\n",
    "for i in df[\"Owner\"]:\n",
    "    if i==\"1st Owner\" or i==\"1st\" or i==\"First\":\n",
    "        owner.append(1)\n",
    "    elif i==\"2nd\" or i==\"2nd Owner\" or i==\"Second\":\n",
    "        owner.append(2)\n",
    "    elif i==\"3rd\" or i==\"3rd Owner\" or i==\"Third\":\n",
    "        owner.append(3)\n",
    "    elif i==\"4th\" or i==\"4th Owner\" or i==\"Fourth\":\n",
    "        owner.append(4)\n",
    "    else:\n",
    "        owner.append(np.nan)\n",
    "df[\"Owner\"]=owner"
   ]
  },
  {
   "cell_type": "code",
   "execution_count": 20,
   "metadata": {},
   "outputs": [
    {
     "data": {
      "text/plain": [
       "34"
      ]
     },
     "execution_count": 20,
     "metadata": {},
     "output_type": "execute_result"
    }
   ],
   "source": [
    "df[\"Owner\"].isnull().sum()"
   ]
  },
  {
   "cell_type": "code",
   "execution_count": 21,
   "metadata": {},
   "outputs": [],
   "source": [
    "df[\"Owner\"].fillna(value=1,inplace=True)"
   ]
  },
  {
   "cell_type": "code",
   "execution_count": 22,
   "metadata": {
    "scrolled": false
   },
   "outputs": [
    {
     "name": "stdout",
     "output_type": "stream",
     "text": [
      "<class 'pandas.core.frame.DataFrame'>\n",
      "RangeIndex: 1779 entries, 0 to 1778\n",
      "Data columns (total 12 columns):\n",
      "index             1779 non-null int64\n",
      "Unnamed: 0        1779 non-null int64\n",
      "CarName           1779 non-null object\n",
      "Owner             1779 non-null float64\n",
      "YearofPurchase    1779 non-null float64\n",
      "Transmission      1779 non-null object\n",
      "Model             1779 non-null object\n",
      "Distance          1779 non-null float64\n",
      "Fuel              1779 non-null object\n",
      "Price             1779 non-null int32\n",
      "website           1779 non-null object\n",
      "Product_url       1779 non-null object\n",
      "dtypes: float64(3), int32(1), int64(2), object(6)\n",
      "memory usage: 159.9+ KB\n"
     ]
    }
   ],
   "source": [
    "df.info()"
   ]
  },
  {
   "cell_type": "code",
   "execution_count": 23,
   "metadata": {},
   "outputs": [
    {
     "data": {
      "text/html": [
       "<div>\n",
       "<style scoped>\n",
       "    .dataframe tbody tr th:only-of-type {\n",
       "        vertical-align: middle;\n",
       "    }\n",
       "\n",
       "    .dataframe tbody tr th {\n",
       "        vertical-align: top;\n",
       "    }\n",
       "\n",
       "    .dataframe thead th {\n",
       "        text-align: right;\n",
       "    }\n",
       "</style>\n",
       "<table border=\"1\" class=\"dataframe\">\n",
       "  <thead>\n",
       "    <tr style=\"text-align: right;\">\n",
       "      <th></th>\n",
       "      <th>index</th>\n",
       "      <th>Unnamed: 0</th>\n",
       "      <th>Owner</th>\n",
       "      <th>YearofPurchase</th>\n",
       "      <th>Distance</th>\n",
       "      <th>Price</th>\n",
       "    </tr>\n",
       "  </thead>\n",
       "  <tbody>\n",
       "    <tr>\n",
       "      <th>count</th>\n",
       "      <td>1779.000000</td>\n",
       "      <td>1779.000000</td>\n",
       "      <td>1779.000000</td>\n",
       "      <td>1779.000000</td>\n",
       "      <td>1779.000000</td>\n",
       "      <td>1.779000e+03</td>\n",
       "    </tr>\n",
       "    <tr>\n",
       "      <th>mean</th>\n",
       "      <td>905.418212</td>\n",
       "      <td>905.418212</td>\n",
       "      <td>1.307476</td>\n",
       "      <td>2014.310287</td>\n",
       "      <td>59428.679595</td>\n",
       "      <td>2.776836e+05</td>\n",
       "    </tr>\n",
       "    <tr>\n",
       "      <th>std</th>\n",
       "      <td>519.330474</td>\n",
       "      <td>519.330474</td>\n",
       "      <td>0.581303</td>\n",
       "      <td>3.551701</td>\n",
       "      <td>65715.863432</td>\n",
       "      <td>4.480986e+05</td>\n",
       "    </tr>\n",
       "    <tr>\n",
       "      <th>min</th>\n",
       "      <td>0.000000</td>\n",
       "      <td>0.000000</td>\n",
       "      <td>1.000000</td>\n",
       "      <td>2003.000000</td>\n",
       "      <td>0.000000</td>\n",
       "      <td>0.000000e+00</td>\n",
       "    </tr>\n",
       "    <tr>\n",
       "      <th>25%</th>\n",
       "      <td>456.500000</td>\n",
       "      <td>456.500000</td>\n",
       "      <td>1.000000</td>\n",
       "      <td>2012.000000</td>\n",
       "      <td>33598.500000</td>\n",
       "      <td>4.189950e+04</td>\n",
       "    </tr>\n",
       "    <tr>\n",
       "      <th>50%</th>\n",
       "      <td>910.000000</td>\n",
       "      <td>910.000000</td>\n",
       "      <td>1.000000</td>\n",
       "      <td>2015.000000</td>\n",
       "      <td>54000.000000</td>\n",
       "      <td>8.839900e+04</td>\n",
       "    </tr>\n",
       "    <tr>\n",
       "      <th>75%</th>\n",
       "      <td>1354.500000</td>\n",
       "      <td>1354.500000</td>\n",
       "      <td>2.000000</td>\n",
       "      <td>2017.000000</td>\n",
       "      <td>74844.500000</td>\n",
       "      <td>3.750000e+05</td>\n",
       "    </tr>\n",
       "    <tr>\n",
       "      <th>max</th>\n",
       "      <td>1799.000000</td>\n",
       "      <td>1799.000000</td>\n",
       "      <td>4.000000</td>\n",
       "      <td>2021.000000</td>\n",
       "      <td>999999.000000</td>\n",
       "      <td>4.400000e+06</td>\n",
       "    </tr>\n",
       "  </tbody>\n",
       "</table>\n",
       "</div>"
      ],
      "text/plain": [
       "             index   Unnamed: 0        Owner  YearofPurchase       Distance  \\\n",
       "count  1779.000000  1779.000000  1779.000000     1779.000000    1779.000000   \n",
       "mean    905.418212   905.418212     1.307476     2014.310287   59428.679595   \n",
       "std     519.330474   519.330474     0.581303        3.551701   65715.863432   \n",
       "min       0.000000     0.000000     1.000000     2003.000000       0.000000   \n",
       "25%     456.500000   456.500000     1.000000     2012.000000   33598.500000   \n",
       "50%     910.000000   910.000000     1.000000     2015.000000   54000.000000   \n",
       "75%    1354.500000  1354.500000     2.000000     2017.000000   74844.500000   \n",
       "max    1799.000000  1799.000000     4.000000     2021.000000  999999.000000   \n",
       "\n",
       "              Price  \n",
       "count  1.779000e+03  \n",
       "mean   2.776836e+05  \n",
       "std    4.480986e+05  \n",
       "min    0.000000e+00  \n",
       "25%    4.189950e+04  \n",
       "50%    8.839900e+04  \n",
       "75%    3.750000e+05  \n",
       "max    4.400000e+06  "
      ]
     },
     "execution_count": 23,
     "metadata": {},
     "output_type": "execute_result"
    }
   ],
   "source": [
    "df.describe()"
   ]
  },
  {
   "cell_type": "markdown",
   "metadata": {},
   "source": [
    "We observe too high difference between 75th percentile and maximum vaue in distance thus concluding presence of otliers in this column."
   ]
  },
  {
   "cell_type": "markdown",
   "metadata": {},
   "source": [
    "Since index, unnamed: 0 and Product_url are not going to contribute in our model we will delete these columns."
   ]
  },
  {
   "cell_type": "code",
   "execution_count": 24,
   "metadata": {},
   "outputs": [],
   "source": [
    "df.drop(columns=[\"index\",\"Unnamed: 0\",\"Product_url\"],inplace=True)"
   ]
  },
  {
   "cell_type": "markdown",
   "metadata": {},
   "source": [
    "## EDA (Univariate and Bivariate Analysis)"
   ]
  },
  {
   "cell_type": "code",
   "execution_count": 25,
   "metadata": {
    "scrolled": true
   },
   "outputs": [
    {
     "data": {
      "text/plain": [
       "Petrol           648\n",
       "DIESEL           395\n",
       "Diesel           347\n",
       "PETROL           285\n",
       "CNG & HYBRIDS     46\n",
       "LPG               24\n",
       "--                23\n",
       "CNG                6\n",
       "Petrol + CNG       5\n",
       "Name: Fuel, dtype: int64"
      ]
     },
     "execution_count": 25,
     "metadata": {},
     "output_type": "execute_result"
    }
   ],
   "source": [
    "df[\"Fuel\"].value_counts()"
   ]
  },
  {
   "cell_type": "code",
   "execution_count": 26,
   "metadata": {},
   "outputs": [
    {
     "data": {
      "text/plain": [
       "<matplotlib.axes._subplots.AxesSubplot at 0x1a1eafe46d8>"
      ]
     },
     "execution_count": 26,
     "metadata": {},
     "output_type": "execute_result"
    },
    {
     "data": {
      "image/png": "[encoded data removed]",
      "text/plain": [
       "<Figure size 432x288 with 1 Axes>"
      ]
     },
     "metadata": {
      "needs_background": "light"
     },
     "output_type": "display_data"
    }
   ],
   "source": [
    "sns.countplot(df[\"Fuel\"])"
   ]
  },
  {
   "cell_type": "code",
   "execution_count": 27,
   "metadata": {},
   "outputs": [
    {
     "data": {
      "text/plain": [
       "<matplotlib.axes._subplots.AxesSubplot at 0x1a1eb04d0f0>"
      ]
     },
     "execution_count": 27,
     "metadata": {},
     "output_type": "execute_result"
    },
    {
     "data": {
      "image/png": "[encoded data removed]",
      "text/plain": [
       "<Figure size 432x288 with 1 Axes>"
      ]
     },
     "metadata": {
      "needs_background": "light"
     },
     "output_type": "display_data"
    }
   ],
   "source": [
    "sns.countplot(df[\"Owner\"])"
   ]
  },
  {
   "cell_type": "code",
   "execution_count": 28,
   "metadata": {},
   "outputs": [
    {
     "data": {
      "text/plain": [
       "(array([ 0,  1,  2,  3,  4,  5,  6,  7,  8,  9, 10, 11, 12, 13, 14, 15, 16,\n",
       "        17]), <a list of 18 Text xticklabel objects>)"
      ]
     },
     "execution_count": 28,
     "metadata": {},
     "output_type": "execute_result"
    },
    {
     "data": {
      "image/png": "[encoded data removed]",
      "text/plain": [
       "<Figure size 432x288 with 1 Axes>"
      ]
     },
     "metadata": {
      "needs_background": "light"
     },
     "output_type": "display_data"
    }
   ],
   "source": [
    "sns.countplot(df[\"YearofPurchase\"])\n",
    "plt.xticks(rotation=70)"
   ]
  },
  {
   "cell_type": "code",
   "execution_count": 29,
   "metadata": {},
   "outputs": [
    {
     "data": {
      "text/plain": [
       "<matplotlib.axes._subplots.AxesSubplot at 0x1a1eb151748>"
      ]
     },
     "execution_count": 29,
     "metadata": {},
     "output_type": "execute_result"
    },
    {
     "data": {
      "image/png": "[encoded data removed]",
      "text/plain": [
       "<Figure size 432x288 with 1 Axes>"
      ]
     },
     "metadata": {
      "needs_background": "light"
     },
     "output_type": "display_data"
    }
   ],
   "source": [
    "sns.distplot(df[\"Distance\"])"
   ]
  },
  {
   "cell_type": "markdown",
   "metadata": {},
   "source": [
    "Distanceis not normally distributed thus we observe skewness here."
   ]
  },
  {
   "cell_type": "code",
   "execution_count": 30,
   "metadata": {},
   "outputs": [
    {
     "data": {
      "text/plain": [
       "(array([ 0,  1,  2,  3,  4,  5,  6,  7,  8,  9, 10, 11, 12, 13, 14, 15, 16,\n",
       "        17]), <a list of 18 Text xticklabel objects>)"
      ]
     },
     "execution_count": 30,
     "metadata": {},
     "output_type": "execute_result"
    },
    {
     "data": {
      "image/png": "[encoded data removed]",
      "text/plain": [
       "<Figure size 720x360 with 1 Axes>"
      ]
     },
     "metadata": {
      "needs_background": "light"
     },
     "output_type": "display_data"
    }
   ],
   "source": [
    "sns.catplot(x=\"YearofPurchase\",y=\"Price\", data=df, aspect=2)\n",
    "plt.xticks(rotation=70)"
   ]
  },
  {
   "cell_type": "markdown",
   "metadata": {},
   "source": [
    "Recent purchased car has more price as compared to previously purchased cars."
   ]
  },
  {
   "cell_type": "code",
   "execution_count": 31,
   "metadata": {},
   "outputs": [
    {
     "data": {
      "text/plain": [
       "(array([0, 1]), <a list of 2 Text xticklabel objects>)"
      ]
     },
     "execution_count": 31,
     "metadata": {},
     "output_type": "execute_result"
    },
    {
     "data": {
      "image/png": "[encoded data removed]",
      "text/plain": [
       "<Figure size 360x360 with 1 Axes>"
      ]
     },
     "metadata": {
      "needs_background": "light"
     },
     "output_type": "display_data"
    }
   ],
   "source": [
    "sns.catplot(x=\"Transmission\",y=\"Price\", data=df)\n",
    "plt.xticks(rotation=70)"
   ]
  },
  {
   "cell_type": "code",
   "execution_count": 32,
   "metadata": {},
   "outputs": [
    {
     "data": {
      "text/plain": [
       "<seaborn.axisgrid.FacetGrid at 0x1a1eb6775f8>"
      ]
     },
     "execution_count": 32,
     "metadata": {},
     "output_type": "execute_result"
    },
    {
     "data": {
      "image/png": "[encoded data removed]",
      "text/plain": [
       "<Figure size 360x360 with 1 Axes>"
      ]
     },
     "metadata": {
      "needs_background": "light"
     },
     "output_type": "display_data"
    }
   ],
   "source": [
    "sns.catplot(x=\"Owner\",y=\"Price\", data=df)"
   ]
  },
  {
   "cell_type": "markdown",
   "metadata": {},
   "source": [
    "Less the number of owners greater the price of car"
   ]
  },
  {
   "cell_type": "code",
   "execution_count": 33,
   "metadata": {},
   "outputs": [
    {
     "data": {
      "text/plain": [
       "<seaborn.axisgrid.FacetGrid at 0x1a1eb6946a0>"
      ]
     },
     "execution_count": 33,
     "metadata": {},
     "output_type": "execute_result"
    },
    {
     "data": {
      "image/png": "[encoded data removed]",
      "text/plain": [
       "<Figure size 360x360 with 1 Axes>"
      ]
     },
     "metadata": {
      "needs_background": "light"
     },
     "output_type": "display_data"
    }
   ],
   "source": [
    "sns.catplot(x=\"website\",y=\"Price\", data=df)"
   ]
  },
  {
   "cell_type": "code",
   "execution_count": 34,
   "metadata": {},
   "outputs": [
    {
     "data": {
      "text/plain": [
       "(array([0, 1, 2, 3, 4, 5, 6, 7, 8]), <a list of 9 Text xticklabel objects>)"
      ]
     },
     "execution_count": 34,
     "metadata": {},
     "output_type": "execute_result"
    },
    {
     "data": {
      "image/png": "[encoded data removed]",
      "text/plain": [
       "<Figure size 411.875x360 with 1 Axes>"
      ]
     },
     "metadata": {
      "needs_background": "light"
     },
     "output_type": "display_data"
    }
   ],
   "source": [
    "sns.catplot(x=\"Fuel\",y=\"Price\",hue=\"Owner\", data=df)\n",
    "plt.xticks(rotation=70)"
   ]
  },
  {
   "cell_type": "markdown",
   "metadata": {},
   "source": [
    "Diesel car have higher price as compared to those with other fuels."
   ]
  },
  {
   "cell_type": "code",
   "execution_count": 35,
   "metadata": {},
   "outputs": [
    {
     "data": {
      "text/plain": [
       "<seaborn.axisgrid.FacetGrid at 0x1a1ec780da0>"
      ]
     },
     "execution_count": 35,
     "metadata": {},
     "output_type": "execute_result"
    },
    {
     "data": {
      "image/png": "[encoded data removed]",
      "text/plain": [
       "<Figure size 428.5x360 with 1 Axes>"
      ]
     },
     "metadata": {
      "needs_background": "light"
     },
     "output_type": "display_data"
    }
   ],
   "source": [
    "sns.relplot(x=\"Distance\",y=\"Price\",data=df, hue=\"Owner\")"
   ]
  },
  {
   "cell_type": "code",
   "execution_count": 36,
   "metadata": {},
   "outputs": [
    {
     "data": {
      "text/plain": [
       "<seaborn.axisgrid.FacetGrid at 0x1a1ec8345f8>"
      ]
     },
     "execution_count": 36,
     "metadata": {},
     "output_type": "execute_result"
    },
    {
     "data": {
      "image/png": "[encoded data removed]",
      "text/plain": [
       "<Figure size 476.375x360 with 1 Axes>"
      ]
     },
     "metadata": {
      "needs_background": "light"
     },
     "output_type": "display_data"
    }
   ],
   "source": [
    "sns.relplot(x=\"Distance\",y=\"Price\",data=df, hue=\"Fuel\")"
   ]
  },
  {
   "cell_type": "markdown",
   "metadata": {},
   "source": [
    "Less the distance covered greater is the price also diesel cars are among those with high prices."
   ]
  },
  {
   "cell_type": "code",
   "execution_count": 37,
   "metadata": {},
   "outputs": [
    {
     "data": {
      "text/plain": [
       "<seaborn.axisgrid.FacetGrid at 0x1a1ec8c6c18>"
      ]
     },
     "execution_count": 37,
     "metadata": {},
     "output_type": "execute_result"
    },
    {
     "data": {
      "image/png": "[encoded data removed]",
      "text/plain": [
       "<Figure size 462.109x360 with 1 Axes>"
      ]
     },
     "metadata": {
      "needs_background": "light"
     },
     "output_type": "display_data"
    }
   ],
   "source": [
    "sns.relplot(x=\"Distance\",y=\"Price\",data=df, hue=\"Transmission\")"
   ]
  },
  {
   "cell_type": "markdown",
   "metadata": {},
   "source": [
    "#### Encoding all object type variables"
   ]
  },
  {
   "cell_type": "code",
   "execution_count": 38,
   "metadata": {},
   "outputs": [
    {
     "data": {
      "text/html": [
       "<div>\n",
       "<style scoped>\n",
       "    .dataframe tbody tr th:only-of-type {\n",
       "        vertical-align: middle;\n",
       "    }\n",
       "\n",
       "    .dataframe tbody tr th {\n",
       "        vertical-align: top;\n",
       "    }\n",
       "\n",
       "    .dataframe thead th {\n",
       "        text-align: right;\n",
       "    }\n",
       "</style>\n",
       "<table border=\"1\" class=\"dataframe\">\n",
       "  <thead>\n",
       "    <tr style=\"text-align: right;\">\n",
       "      <th></th>\n",
       "      <th>CarName</th>\n",
       "      <th>Owner</th>\n",
       "      <th>YearofPurchase</th>\n",
       "      <th>Transmission</th>\n",
       "      <th>Model</th>\n",
       "      <th>Distance</th>\n",
       "      <th>Fuel</th>\n",
       "      <th>Price</th>\n",
       "      <th>website</th>\n",
       "    </tr>\n",
       "  </thead>\n",
       "  <tbody>\n",
       "    <tr>\n",
       "      <th>0</th>\n",
       "      <td>132</td>\n",
       "      <td>1.0</td>\n",
       "      <td>2013.0</td>\n",
       "      <td>1</td>\n",
       "      <td>86</td>\n",
       "      <td>88147.0</td>\n",
       "      <td>3</td>\n",
       "      <td>590000</td>\n",
       "      <td>1</td>\n",
       "    </tr>\n",
       "    <tr>\n",
       "      <th>1</th>\n",
       "      <td>154</td>\n",
       "      <td>1.0</td>\n",
       "      <td>2016.0</td>\n",
       "      <td>1</td>\n",
       "      <td>17</td>\n",
       "      <td>59000.0</td>\n",
       "      <td>3</td>\n",
       "      <td>525000</td>\n",
       "      <td>1</td>\n",
       "    </tr>\n",
       "    <tr>\n",
       "      <th>2</th>\n",
       "      <td>169</td>\n",
       "      <td>1.0</td>\n",
       "      <td>2011.0</td>\n",
       "      <td>1</td>\n",
       "      <td>369</td>\n",
       "      <td>68000.0</td>\n",
       "      <td>6</td>\n",
       "      <td>215000</td>\n",
       "      <td>1</td>\n",
       "    </tr>\n",
       "    <tr>\n",
       "      <th>3</th>\n",
       "      <td>125</td>\n",
       "      <td>2.0</td>\n",
       "      <td>2014.0</td>\n",
       "      <td>1</td>\n",
       "      <td>135</td>\n",
       "      <td>56553.0</td>\n",
       "      <td>6</td>\n",
       "      <td>575000</td>\n",
       "      <td>1</td>\n",
       "    </tr>\n",
       "    <tr>\n",
       "      <th>4</th>\n",
       "      <td>214</td>\n",
       "      <td>1.0</td>\n",
       "      <td>2016.0</td>\n",
       "      <td>1</td>\n",
       "      <td>154</td>\n",
       "      <td>50509.0</td>\n",
       "      <td>3</td>\n",
       "      <td>600000</td>\n",
       "      <td>1</td>\n",
       "    </tr>\n",
       "  </tbody>\n",
       "</table>\n",
       "</div>"
      ],
      "text/plain": [
       "   CarName  Owner  YearofPurchase  Transmission  Model  Distance  Fuel  \\\n",
       "0      132    1.0          2013.0             1     86   88147.0     3   \n",
       "1      154    1.0          2016.0             1     17   59000.0     3   \n",
       "2      169    1.0          2011.0             1    369   68000.0     6   \n",
       "3      125    2.0          2014.0             1    135   56553.0     6   \n",
       "4      214    1.0          2016.0             1    154   50509.0     3   \n",
       "\n",
       "    Price  website  \n",
       "0  590000        1  \n",
       "1  525000        1  \n",
       "2  215000        1  \n",
       "3  575000        1  \n",
       "4  600000        1  "
      ]
     },
     "execution_count": 38,
     "metadata": {},
     "output_type": "execute_result"
    }
   ],
   "source": [
    "lab_enc=LabelEncoder()\n",
    "cols=[\"Fuel\",\"Transmission\",\"Model\",\"website\",\"CarName\"]\n",
    "for i in cols:\n",
    "    df1= lab_enc.fit_transform(df[i])\n",
    "    df[i]=df1\n",
    "df.head()"
   ]
  },
  {
   "cell_type": "markdown",
   "metadata": {},
   "source": [
    "### Correlation"
   ]
  },
  {
   "cell_type": "code",
   "execution_count": 39,
   "metadata": {},
   "outputs": [
    {
     "data": {
      "text/html": [
       "<div>\n",
       "<style scoped>\n",
       "    .dataframe tbody tr th:only-of-type {\n",
       "        vertical-align: middle;\n",
       "    }\n",
       "\n",
       "    .dataframe tbody tr th {\n",
       "        vertical-align: top;\n",
       "    }\n",
       "\n",
       "    .dataframe thead th {\n",
       "        text-align: right;\n",
       "    }\n",
       "</style>\n",
       "<table border=\"1\" class=\"dataframe\">\n",
       "  <thead>\n",
       "    <tr style=\"text-align: right;\">\n",
       "      <th></th>\n",
       "      <th>CarName</th>\n",
       "      <th>Owner</th>\n",
       "      <th>YearofPurchase</th>\n",
       "      <th>Transmission</th>\n",
       "      <th>Model</th>\n",
       "      <th>Distance</th>\n",
       "      <th>Fuel</th>\n",
       "      <th>Price</th>\n",
       "      <th>website</th>\n",
       "    </tr>\n",
       "  </thead>\n",
       "  <tbody>\n",
       "    <tr>\n",
       "      <th>CarName</th>\n",
       "      <td>1.000000</td>\n",
       "      <td>0.180398</td>\n",
       "      <td>-0.206795</td>\n",
       "      <td>0.119183</td>\n",
       "      <td>-0.196184</td>\n",
       "      <td>0.241256</td>\n",
       "      <td>-0.481943</td>\n",
       "      <td>0.453040</td>\n",
       "      <td>0.881442</td>\n",
       "    </tr>\n",
       "    <tr>\n",
       "      <th>Owner</th>\n",
       "      <td>0.180398</td>\n",
       "      <td>1.000000</td>\n",
       "      <td>-0.161467</td>\n",
       "      <td>-0.013525</td>\n",
       "      <td>-0.100473</td>\n",
       "      <td>0.093484</td>\n",
       "      <td>-0.064163</td>\n",
       "      <td>-0.054802</td>\n",
       "      <td>0.166646</td>\n",
       "    </tr>\n",
       "    <tr>\n",
       "      <th>YearofPurchase</th>\n",
       "      <td>-0.206795</td>\n",
       "      <td>-0.161467</td>\n",
       "      <td>1.000000</td>\n",
       "      <td>-0.086390</td>\n",
       "      <td>0.042965</td>\n",
       "      <td>-0.167613</td>\n",
       "      <td>0.127407</td>\n",
       "      <td>-0.130828</td>\n",
       "      <td>-0.236356</td>\n",
       "    </tr>\n",
       "    <tr>\n",
       "      <th>Transmission</th>\n",
       "      <td>0.119183</td>\n",
       "      <td>-0.013525</td>\n",
       "      <td>-0.086390</td>\n",
       "      <td>1.000000</td>\n",
       "      <td>0.017908</td>\n",
       "      <td>0.025029</td>\n",
       "      <td>-0.048980</td>\n",
       "      <td>0.023344</td>\n",
       "      <td>0.107162</td>\n",
       "    </tr>\n",
       "    <tr>\n",
       "      <th>Model</th>\n",
       "      <td>-0.196184</td>\n",
       "      <td>-0.100473</td>\n",
       "      <td>0.042965</td>\n",
       "      <td>0.017908</td>\n",
       "      <td>1.000000</td>\n",
       "      <td>-0.121221</td>\n",
       "      <td>0.201701</td>\n",
       "      <td>-0.212513</td>\n",
       "      <td>-0.307659</td>\n",
       "    </tr>\n",
       "    <tr>\n",
       "      <th>Distance</th>\n",
       "      <td>0.241256</td>\n",
       "      <td>0.093484</td>\n",
       "      <td>-0.167613</td>\n",
       "      <td>0.025029</td>\n",
       "      <td>-0.121221</td>\n",
       "      <td>1.000000</td>\n",
       "      <td>-0.243686</td>\n",
       "      <td>0.041227</td>\n",
       "      <td>0.230251</td>\n",
       "    </tr>\n",
       "    <tr>\n",
       "      <th>Fuel</th>\n",
       "      <td>-0.481943</td>\n",
       "      <td>-0.064163</td>\n",
       "      <td>0.127407</td>\n",
       "      <td>-0.048980</td>\n",
       "      <td>0.201701</td>\n",
       "      <td>-0.243686</td>\n",
       "      <td>1.000000</td>\n",
       "      <td>-0.421707</td>\n",
       "      <td>-0.535404</td>\n",
       "    </tr>\n",
       "    <tr>\n",
       "      <th>Price</th>\n",
       "      <td>0.453040</td>\n",
       "      <td>-0.054802</td>\n",
       "      <td>-0.130828</td>\n",
       "      <td>0.023344</td>\n",
       "      <td>-0.212513</td>\n",
       "      <td>0.041227</td>\n",
       "      <td>-0.421707</td>\n",
       "      <td>1.000000</td>\n",
       "      <td>0.558126</td>\n",
       "    </tr>\n",
       "    <tr>\n",
       "      <th>website</th>\n",
       "      <td>0.881442</td>\n",
       "      <td>0.166646</td>\n",
       "      <td>-0.236356</td>\n",
       "      <td>0.107162</td>\n",
       "      <td>-0.307659</td>\n",
       "      <td>0.230251</td>\n",
       "      <td>-0.535404</td>\n",
       "      <td>0.558126</td>\n",
       "      <td>1.000000</td>\n",
       "    </tr>\n",
       "  </tbody>\n",
       "</table>\n",
       "</div>"
      ],
      "text/plain": [
       "                 CarName     Owner  YearofPurchase  Transmission     Model  \\\n",
       "CarName         1.000000  0.180398       -0.206795      0.119183 -0.196184   \n",
       "Owner           0.180398  1.000000       -0.161467     -0.013525 -0.100473   \n",
       "YearofPurchase -0.206795 -0.161467        1.000000     -0.086390  0.042965   \n",
       "Transmission    0.119183 -0.013525       -0.086390      1.000000  0.017908   \n",
       "Model          -0.196184 -0.100473        0.042965      0.017908  1.000000   \n",
       "Distance        0.241256  0.093484       -0.167613      0.025029 -0.121221   \n",
       "Fuel           -0.481943 -0.064163        0.127407     -0.048980  0.201701   \n",
       "Price           0.453040 -0.054802       -0.130828      0.023344 -0.212513   \n",
       "website         0.881442  0.166646       -0.236356      0.107162 -0.307659   \n",
       "\n",
       "                Distance      Fuel     Price   website  \n",
       "CarName         0.241256 -0.481943  0.453040  0.881442  \n",
       "Owner           0.093484 -0.064163 -0.054802  0.166646  \n",
       "YearofPurchase -0.167613  0.127407 -0.130828 -0.236356  \n",
       "Transmission    0.025029 -0.048980  0.023344  0.107162  \n",
       "Model          -0.121221  0.201701 -0.212513 -0.307659  \n",
       "Distance        1.000000 -0.243686  0.041227  0.230251  \n",
       "Fuel           -0.243686  1.000000 -0.421707 -0.535404  \n",
       "Price           0.041227 -0.421707  1.000000  0.558126  \n",
       "website         0.230251 -0.535404  0.558126  1.000000  "
      ]
     },
     "execution_count": 39,
     "metadata": {},
     "output_type": "execute_result"
    }
   ],
   "source": [
    "df.corr()"
   ]
  },
  {
   "cell_type": "markdown",
   "metadata": {},
   "source": [
    "#### Heatmap"
   ]
  },
  {
   "cell_type": "code",
   "execution_count": 40,
   "metadata": {},
   "outputs": [
    {
     "data": {
      "image/png": "[encoded data removed]",
      "text/plain": [
       "<Figure size 720x576 with 2 Axes>"
      ]
     },
     "metadata": {
      "needs_background": "light"
     },
     "output_type": "display_data"
    }
   ],
   "source": [
    "## HeatMap\n",
    "df_corr= df.corr().abs()\n",
    "plt.figure(figsize=(10,8))\n",
    "sns.heatmap(df_corr, vmin=-1, vmax=1, annot=True, square=True, center=0, fmt='.2g', linewidth=.1)\n",
    "plt.tight_layout()"
   ]
  },
  {
   "cell_type": "code",
   "execution_count": 41,
   "metadata": {},
   "outputs": [
    {
     "data": {
      "text/plain": [
       "Price             1.000000\n",
       "website           0.558126\n",
       "CarName           0.453040\n",
       "Distance          0.041227\n",
       "Transmission      0.023344\n",
       "Owner            -0.054802\n",
       "YearofPurchase   -0.130828\n",
       "Model            -0.212513\n",
       "Fuel             -0.421707\n",
       "Name: Price, dtype: float64"
      ]
     },
     "execution_count": 41,
     "metadata": {},
     "output_type": "execute_result"
    }
   ],
   "source": [
    "# Correlation with target variable\n",
    "corr_mat=df.corr()\n",
    "corr_mat[\"Price\"].sort_values(ascending=False)"
   ]
  },
  {
   "cell_type": "markdown",
   "metadata": {},
   "source": [
    "We obseve both positive and negative correlation between features and label. We also observe multicollinearity between Website and CarName but cannot draw any conclusion from this.\n",
    "\n",
    "Also Price has Maximum Correlation with Website whereas Minimum Correlation with Tranmission."
   ]
  },
  {
   "cell_type": "markdown",
   "metadata": {},
   "source": [
    "#### Check for outliers"
   ]
  },
  {
   "cell_type": "code",
   "execution_count": 42,
   "metadata": {
    "scrolled": true
   },
   "outputs": [
    {
     "data": {
      "image/png": "[encoded data removed]",
      "text/plain": [
       "<Figure size 2880x5760 with 9 Axes>"
      ]
     },
     "metadata": {
      "needs_background": "light"
     },
     "output_type": "display_data"
    }
   ],
   "source": [
    "collist=df.columns.values\n",
    "plt.figure(figsize=(40,80))\n",
    "for i in range(0,len(collist)):\n",
    "    plt.subplot(15,20,i+1)\n",
    "    sns.boxplot(df[collist[i]],color='green',orient='v')\n",
    "    plt.tight_layout()"
   ]
  },
  {
   "cell_type": "markdown",
   "metadata": {},
   "source": [
    "We observe outliers an our data."
   ]
  },
  {
   "cell_type": "markdown",
   "metadata": {},
   "source": [
    "### Data Pre-Processing"
   ]
  },
  {
   "cell_type": "code",
   "execution_count": 43,
   "metadata": {},
   "outputs": [
    {
     "data": {
      "text/plain": [
       "(1739, 9)"
      ]
     },
     "execution_count": 43,
     "metadata": {},
     "output_type": "execute_result"
    }
   ],
   "source": [
    "q= df['Distance'].quantile(0.98) ## removes 2% of data we will choose this value on our own\n",
    "data= df[df['Distance']<q]\n",
    "data.shape"
   ]
  },
  {
   "cell_type": "code",
   "execution_count": 44,
   "metadata": {},
   "outputs": [
    {
     "name": "stdout",
     "output_type": "stream",
     "text": [
      "Percentage of data loss=  3.3888888888888893\n"
     ]
    }
   ],
   "source": [
    "print(\"Percentage of data loss= \",((1800-1739)/1800)*100)"
   ]
  },
  {
   "cell_type": "markdown",
   "metadata": {},
   "source": [
    "#### Check for skewness in data"
   ]
  },
  {
   "cell_type": "code",
   "execution_count": 45,
   "metadata": {},
   "outputs": [
    {
     "data": {
      "text/plain": [
       "CarName           0.601236\n",
       "Owner             1.849706\n",
       "YearofPurchase   -0.686150\n",
       "Transmission     -3.922957\n",
       "Model            -0.303048\n",
       "Distance          0.344759\n",
       "Fuel             -0.434150\n",
       "Price             4.478694\n",
       "website           0.301492\n",
       "dtype: float64"
      ]
     },
     "execution_count": 45,
     "metadata": {},
     "output_type": "execute_result"
    }
   ],
   "source": [
    "data.skew()"
   ]
  },
  {
   "cell_type": "markdown",
   "metadata": {},
   "source": [
    "We don't observe skewness in continuous data and hence we can move further to scale and build our model."
   ]
  },
  {
   "cell_type": "code",
   "execution_count": 46,
   "metadata": {},
   "outputs": [],
   "source": [
    "# Splitting data\n",
    "x=data.drop(columns=[\"Price\"])\n",
    "y=data[\"Price\"]"
   ]
  },
  {
   "cell_type": "code",
   "execution_count": 47,
   "metadata": {},
   "outputs": [],
   "source": [
    "## Scaling data\n",
    "scale= StandardScaler()\n",
    "x_scaled=scale.fit_transform(x)"
   ]
  },
  {
   "cell_type": "markdown",
   "metadata": {},
   "source": [
    "## Model Building"
   ]
  },
  {
   "cell_type": "code",
   "execution_count": 48,
   "metadata": {},
   "outputs": [
    {
     "name": "stdout",
     "output_type": "stream",
     "text": [
      "At random state 92 ,the model performs well\n",
      "Training r2_score is:  38.29349851015012\n",
      "Testing r2_score is:  38.28020195606241\n"
     ]
    }
   ],
   "source": [
    "#Finding the best random state and r2_score\n",
    "for i in range(100):\n",
    "    x_train,x_test,y_train,y_test=train_test_split(x,y,test_size=.20,random_state=i)\n",
    "    lr=LinearRegression()\n",
    "    lr.fit(x_train,y_train)\n",
    "    pred_train=lr.predict(x_train)\n",
    "    pred_test=lr.predict(x_test)\n",
    "    if round(r2_score(y_train,pred_train)*100,1)==round(r2_score(y_test,pred_test)*100,1):\n",
    "        print('At random state',i,',the model performs well')\n",
    "        print('Training r2_score is: ',r2_score(y_train,pred_train)*100)\n",
    "        print('Testing r2_score is: ',r2_score(y_test,pred_test)*100)"
   ]
  },
  {
   "cell_type": "code",
   "execution_count": 49,
   "metadata": {},
   "outputs": [],
   "source": [
    "# Splitting data using train_test_split\n",
    "x_train, x_test, y_train, y_test = train_test_split(x_scaled, y, test_size=0.25, random_state=92)"
   ]
  },
  {
   "cell_type": "markdown",
   "metadata": {},
   "source": [
    "#### Linear Regression"
   ]
  },
  {
   "cell_type": "code",
   "execution_count": 50,
   "metadata": {},
   "outputs": [
    {
     "name": "stdout",
     "output_type": "stream",
     "text": [
      "Linear regression: Accuracy =  0.4012052494349163\n",
      "Mean Absolute Error=  178701.69151004375\n",
      "Mean Squared Error=  95296282075.04192\n"
     ]
    }
   ],
   "source": [
    "lm= LinearRegression()\n",
    "lm.fit(x_train,y_train)\n",
    "y_pred= lm.predict(x_test)\n",
    "score_lm=lm.score(x_test,y_test)\n",
    "print(\"Linear regression: Accuracy = \",score_lm)\n",
    "print(\"Mean Absolute Error= \",mean_absolute_error(y_test,y_pred))\n",
    "print(\"Mean Squared Error= \",mean_squared_error(y_test,y_pred))"
   ]
  },
  {
   "cell_type": "markdown",
   "metadata": {},
   "source": [
    "#### Model Regularization"
   ]
  },
  {
   "cell_type": "code",
   "execution_count": 51,
   "metadata": {},
   "outputs": [
    {
     "data": {
      "text/plain": [
       "0.4012274634080786"
      ]
     },
     "execution_count": 51,
     "metadata": {},
     "output_type": "execute_result"
    }
   ],
   "source": [
    "lasscv= LassoCV(alphas=None, max_iter=1000, normalize= True)\n",
    "lasscv.fit(x_train,y_train)\n",
    "alpha= lasscv.alpha_\n",
    "lasso_reg= Lasso(alpha)\n",
    "lasso_reg.fit(x_train,y_train)\n",
    "score_lasso=lasso_reg.score(x_test,y_test)\n",
    "score_lasso"
   ]
  },
  {
   "cell_type": "code",
   "execution_count": 52,
   "metadata": {},
   "outputs": [
    {
     "name": "stdout",
     "output_type": "stream",
     "text": [
      "Mean Absolute Error=  178694.66568731022\n",
      "Mean Squared Error=  95292746791.79088\n"
     ]
    }
   ],
   "source": [
    "y_pred=lasso_reg.predict(x_test)\n",
    "print(\"Mean Absolute Error= \",mean_absolute_error(y_test,y_pred))\n",
    "print(\"Mean Squared Error= \",mean_squared_error(y_test,y_pred))"
   ]
  },
  {
   "cell_type": "markdown",
   "metadata": {},
   "source": [
    "#### KNN Model"
   ]
  },
  {
   "cell_type": "code",
   "execution_count": 53,
   "metadata": {},
   "outputs": [
    {
     "name": "stdout",
     "output_type": "stream",
     "text": [
      "KNN regression: Accuracy =  0.5797470302191235\n",
      "Mean Absolute Error=  121890.51494252874\n",
      "Mean Squared Error=  66881924922.21848\n"
     ]
    }
   ],
   "source": [
    "knn_r=KNeighborsRegressor()\n",
    "knn_r.fit(x_train, y_train)\n",
    "y_pred= knn_r.predict(x_test)\n",
    "score_knnr=knn_r.score(x_test,y_test)\n",
    "print(\"KNN regression: Accuracy = \",score_knnr)\n",
    "print(\"Mean Absolute Error= \",mean_absolute_error(y_test,y_pred))\n",
    "print(\"Mean Squared Error= \",mean_squared_error(y_test,y_pred))"
   ]
  },
  {
   "cell_type": "markdown",
   "metadata": {},
   "source": [
    "#### DecisionTree Regressor"
   ]
  },
  {
   "cell_type": "code",
   "execution_count": 54,
   "metadata": {
    "scrolled": true
   },
   "outputs": [
    {
     "name": "stdout",
     "output_type": "stream",
     "text": [
      "Decision Tree regression: Accuracy =  0.9646906202308051\n",
      "Mean Absolute Error=  29814.52643678161\n",
      "Mean Squared Error=  5619375606.089655\n"
     ]
    }
   ],
   "source": [
    "dt_r= DecisionTreeRegressor()\n",
    "dt_r.fit(x_train, y_train)\n",
    "y_pred= dt_r.predict(x_test)\n",
    "score_dtr=dt_r.score(x_test,y_test)\n",
    "print(\"Decision Tree regression: Accuracy = \",score_dtr)\n",
    "print(\"Mean Absolute Error= \",mean_absolute_error(y_test,y_pred))\n",
    "print(\"Mean Squared Error= \",mean_squared_error(y_test,y_pred))"
   ]
  },
  {
   "cell_type": "markdown",
   "metadata": {},
   "source": [
    "#### RandomForest Regressor"
   ]
  },
  {
   "cell_type": "code",
   "execution_count": 55,
   "metadata": {
    "scrolled": true
   },
   "outputs": [
    {
     "name": "stdout",
     "output_type": "stream",
     "text": [
      "Random Forest regression: Accuracy =  0.9611451244663923\n",
      "Mean Absolute Error=  41099.07370881226\n",
      "Mean Squared Error=  6183629992.325498\n"
     ]
    }
   ],
   "source": [
    "rmf= RandomForestRegressor()\n",
    "rmf.fit(x_train,y_train)\n",
    "y_pred= rmf.predict(x_test)\n",
    "score_rmf=rmf.score(x_test,y_test)\n",
    "print(\"Random Forest regression: Accuracy = \",score_rmf)\n",
    "print(\"Mean Absolute Error= \",mean_absolute_error(y_test,y_pred))\n",
    "print(\"Mean Squared Error= \",mean_squared_error(y_test,y_pred))"
   ]
  },
  {
   "cell_type": "markdown",
   "metadata": {},
   "source": [
    "#### Gradient Boosting Regressor"
   ]
  },
  {
   "cell_type": "code",
   "execution_count": 56,
   "metadata": {},
   "outputs": [
    {
     "name": "stdout",
     "output_type": "stream",
     "text": [
      "Gradient Boosting regression: Accuracy =  0.9255459967590469\n",
      "Mean Absolute Error=  65054.2532670657\n",
      "Mean Squared Error=  11849118062.191107\n"
     ]
    }
   ],
   "source": [
    "gb= GradientBoostingRegressor()\n",
    "gb.fit(x_train,y_train)\n",
    "y_pred= gb.predict(x_test)\n",
    "score_gb=gb.score(x_test,y_test)\n",
    "print(\"Gradient Boosting regression: Accuracy = \",score_gb)\n",
    "print(\"Mean Absolute Error= \",mean_absolute_error(y_test,y_pred))\n",
    "print(\"Mean Squared Error= \",mean_squared_error(y_test,y_pred))"
   ]
  },
  {
   "cell_type": "markdown",
   "metadata": {},
   "source": [
    "### Model Evaluation \n",
    "(Using Cross Validation technique)"
   ]
  },
  {
   "cell_type": "markdown",
   "metadata": {},
   "source": [
    "#### Linear Regression"
   ]
  },
  {
   "cell_type": "code",
   "execution_count": 57,
   "metadata": {},
   "outputs": [
    {
     "data": {
      "text/plain": [
       "0.3636708746123444"
      ]
     },
     "execution_count": 57,
     "metadata": {},
     "output_type": "execute_result"
    }
   ],
   "source": [
    "lm_cv=cross_val_score(lm,x_train, y_train,cv=5).mean()\n",
    "lm_cv"
   ]
  },
  {
   "cell_type": "markdown",
   "metadata": {},
   "source": [
    "#### Lasso CV"
   ]
  },
  {
   "cell_type": "code",
   "execution_count": 58,
   "metadata": {},
   "outputs": [
    {
     "data": {
      "text/plain": [
       "0.36367294418612855"
      ]
     },
     "execution_count": 58,
     "metadata": {},
     "output_type": "execute_result"
    }
   ],
   "source": [
    "lass_cv=cross_val_score(lasso_reg,x_train, y_train,cv=5).mean()\n",
    "lass_cv"
   ]
  },
  {
   "cell_type": "markdown",
   "metadata": {},
   "source": [
    "#### KNN Model"
   ]
  },
  {
   "cell_type": "code",
   "execution_count": 59,
   "metadata": {},
   "outputs": [
    {
     "data": {
      "text/plain": [
       "0.5203595841928474"
      ]
     },
     "execution_count": 59,
     "metadata": {},
     "output_type": "execute_result"
    }
   ],
   "source": [
    "knn_cv=cross_val_score(knn_r,x_train, y_train,cv=5).mean()\n",
    "knn_cv"
   ]
  },
  {
   "cell_type": "markdown",
   "metadata": {},
   "source": [
    "#### DecisionTree Regressor"
   ]
  },
  {
   "cell_type": "code",
   "execution_count": 60,
   "metadata": {},
   "outputs": [
    {
     "data": {
      "text/plain": [
       "0.8493623759939648"
      ]
     },
     "execution_count": 60,
     "metadata": {},
     "output_type": "execute_result"
    }
   ],
   "source": [
    "dt_cv=cross_val_score(dt_r,x_train, y_train,cv=5).mean()\n",
    "dt_cv"
   ]
  },
  {
   "cell_type": "markdown",
   "metadata": {},
   "source": [
    "#### RandomForest Regressor"
   ]
  },
  {
   "cell_type": "code",
   "execution_count": 61,
   "metadata": {},
   "outputs": [
    {
     "data": {
      "text/plain": [
       "0.8594166571440696"
      ]
     },
     "execution_count": 61,
     "metadata": {},
     "output_type": "execute_result"
    }
   ],
   "source": [
    "rmf_cv=cross_val_score(rmf,x_train, y_train,cv=5).mean()\n",
    "rmf_cv"
   ]
  },
  {
   "cell_type": "markdown",
   "metadata": {},
   "source": [
    "#### Gradient Boosting Regressor"
   ]
  },
  {
   "cell_type": "code",
   "execution_count": 62,
   "metadata": {},
   "outputs": [
    {
     "data": {
      "text/plain": [
       "0.8806007876760684"
      ]
     },
     "execution_count": 62,
     "metadata": {},
     "output_type": "execute_result"
    }
   ],
   "source": [
    "gb_cv=cross_val_score(gb,x_train, y_train,cv=5).mean()\n",
    "gb_cv"
   ]
  },
  {
   "cell_type": "code",
   "execution_count": 63,
   "metadata": {},
   "outputs": [
    {
     "data": {
      "text/html": [
       "<div>\n",
       "<style scoped>\n",
       "    .dataframe tbody tr th:only-of-type {\n",
       "        vertical-align: middle;\n",
       "    }\n",
       "\n",
       "    .dataframe tbody tr th {\n",
       "        vertical-align: top;\n",
       "    }\n",
       "\n",
       "    .dataframe thead th {\n",
       "        text-align: right;\n",
       "    }\n",
       "</style>\n",
       "<table border=\"1\" class=\"dataframe\">\n",
       "  <thead>\n",
       "    <tr style=\"text-align: right;\">\n",
       "      <th></th>\n",
       "      <th>Model</th>\n",
       "      <th>R2_Score</th>\n",
       "      <th>CV Score</th>\n",
       "      <th>Difference</th>\n",
       "    </tr>\n",
       "  </thead>\n",
       "  <tbody>\n",
       "    <tr>\n",
       "      <th>0</th>\n",
       "      <td>LinearRegression</td>\n",
       "      <td>0.401205</td>\n",
       "      <td>0.363671</td>\n",
       "      <td>0.037534</td>\n",
       "    </tr>\n",
       "    <tr>\n",
       "      <th>1</th>\n",
       "      <td>Lasso</td>\n",
       "      <td>0.401227</td>\n",
       "      <td>0.363673</td>\n",
       "      <td>0.037555</td>\n",
       "    </tr>\n",
       "    <tr>\n",
       "      <th>2</th>\n",
       "      <td>KNN</td>\n",
       "      <td>0.579747</td>\n",
       "      <td>0.520360</td>\n",
       "      <td>0.059387</td>\n",
       "    </tr>\n",
       "    <tr>\n",
       "      <th>3</th>\n",
       "      <td>DecsionTree</td>\n",
       "      <td>0.964691</td>\n",
       "      <td>0.849362</td>\n",
       "      <td>0.115328</td>\n",
       "    </tr>\n",
       "    <tr>\n",
       "      <th>4</th>\n",
       "      <td>RandomForest</td>\n",
       "      <td>0.961145</td>\n",
       "      <td>0.859417</td>\n",
       "      <td>0.101728</td>\n",
       "    </tr>\n",
       "    <tr>\n",
       "      <th>5</th>\n",
       "      <td>GradientBoosting</td>\n",
       "      <td>0.925546</td>\n",
       "      <td>0.880601</td>\n",
       "      <td>0.044945</td>\n",
       "    </tr>\n",
       "  </tbody>\n",
       "</table>\n",
       "</div>"
      ],
      "text/plain": [
       "              Model  R2_Score  CV Score  Difference\n",
       "0  LinearRegression  0.401205  0.363671    0.037534\n",
       "1             Lasso  0.401227  0.363673    0.037555\n",
       "2               KNN  0.579747  0.520360    0.059387\n",
       "3       DecsionTree  0.964691  0.849362    0.115328\n",
       "4      RandomForest  0.961145  0.859417    0.101728\n",
       "5  GradientBoosting  0.925546  0.880601    0.044945"
      ]
     },
     "execution_count": 63,
     "metadata": {},
     "output_type": "execute_result"
    }
   ],
   "source": [
    "model=pd.DataFrame()\n",
    "model[\"Model\"]=[\"LinearRegression\",\"Lasso\",\"KNN\",\"DecsionTree\",\"RandomForest\",\"GradientBoosting\"]\n",
    "model[\"R2_Score\"]=[score_lm,score_lasso,score_knnr,score_dtr,score_rmf,score_gb]\n",
    "model[\"CV Score\"]=[lm_cv,lass_cv,knn_cv,dt_cv,rmf_cv,gb_cv]\n",
    "model[\"Difference\"]=[score_lm-lm_cv,score_lasso-lass_cv,score_knnr-knn_cv,score_dtr-dt_cv,score_rmf-rmf_cv,score_gb-gb_cv]\n",
    "model"
   ]
  },
  {
   "cell_type": "markdown",
   "metadata": {},
   "source": [
    "We'll Choose GradientBoosting Model as our best model and move further to tune this model."
   ]
  },
  {
   "cell_type": "markdown",
   "metadata": {},
   "source": [
    "### Hyper Parametric Tuning"
   ]
  },
  {
   "cell_type": "code",
   "execution_count": 64,
   "metadata": {},
   "outputs": [
    {
     "name": "stdout",
     "output_type": "stream",
     "text": [
      "best params=> {'criterion': 'friedman_mse', 'loss': 'ls', 'max_depth': 10, 'min_samples_leaf': 2, 'min_samples_split': 6, 'n_estimators': 15}\n"
     ]
    }
   ],
   "source": [
    "x_train, x_test, y_train,  y_test= train_test_split(x_scaled,y, test_size=0.25,random_state=92)\n",
    "gb= GradientBoostingRegressor()\n",
    "params={'loss':['ls','lad'],'n_estimators':[13,15], 'criterion':['friedman_mse','mae'],\n",
    "       'max_depth':[5,10], 'min_samples_split':[4,6],\n",
    "       'min_samples_leaf':[2,3]}\n",
    "grd=GridSearchCV(gb,param_grid=params)\n",
    "grd.fit(x_train,y_train)\n",
    "print('best params=>',grd.best_params_)"
   ]
  },
  {
   "cell_type": "code",
   "execution_count": 65,
   "metadata": {},
   "outputs": [
    {
     "name": "stdout",
     "output_type": "stream",
     "text": [
      "Gradient Boosting Regression: Accuracy =  0.9187764506451738\n",
      "\n",
      " Mean Squared Error=  12926469818.162355\n",
      "\n",
      " Root Mean Squared Error=  113694.6340781409\n",
      "\n",
      " Mean Absolute Error=  71002.34225913782\n"
     ]
    }
   ],
   "source": [
    "gbr= grd.best_estimator_\n",
    "gbr.fit(x_train,y_train)\n",
    "y_pred=gbr.predict(x_test)\n",
    "print(\"Gradient Boosting Regression: Accuracy = \",gbr.score(x_test,y_test))\n",
    "print(\"\\n Mean Squared Error= \",mean_squared_error(y_test,y_pred))\n",
    "print(\"\\n Root Mean Squared Error= \",np.sqrt(mean_squared_error(y_test,y_pred)))\n",
    "print(\"\\n Mean Absolute Error= \",mean_absolute_error(y_test,y_pred))"
   ]
  },
  {
   "cell_type": "code",
   "execution_count": 66,
   "metadata": {},
   "outputs": [
    {
     "data": {
      "text/html": [
       "<div>\n",
       "<style scoped>\n",
       "    .dataframe tbody tr th:only-of-type {\n",
       "        vertical-align: middle;\n",
       "    }\n",
       "\n",
       "    .dataframe tbody tr th {\n",
       "        vertical-align: top;\n",
       "    }\n",
       "\n",
       "    .dataframe thead th {\n",
       "        text-align: right;\n",
       "    }\n",
       "</style>\n",
       "<table border=\"1\" class=\"dataframe\">\n",
       "  <thead>\n",
       "    <tr style=\"text-align: right;\">\n",
       "      <th></th>\n",
       "      <th>Original_price</th>\n",
       "      <th>Predicted_price</th>\n",
       "    </tr>\n",
       "  </thead>\n",
       "  <tbody>\n",
       "    <tr>\n",
       "      <th>1761</th>\n",
       "      <td>39299</td>\n",
       "      <td>9.343564e+04</td>\n",
       "    </tr>\n",
       "    <tr>\n",
       "      <th>1138</th>\n",
       "      <td>46799</td>\n",
       "      <td>9.648360e+04</td>\n",
       "    </tr>\n",
       "    <tr>\n",
       "      <th>1697</th>\n",
       "      <td>89099</td>\n",
       "      <td>9.160918e+04</td>\n",
       "    </tr>\n",
       "    <tr>\n",
       "      <th>199</th>\n",
       "      <td>80000</td>\n",
       "      <td>1.352179e+05</td>\n",
       "    </tr>\n",
       "    <tr>\n",
       "      <th>1227</th>\n",
       "      <td>19000</td>\n",
       "      <td>9.571343e+04</td>\n",
       "    </tr>\n",
       "    <tr>\n",
       "      <th>492</th>\n",
       "      <td>590000</td>\n",
       "      <td>5.296719e+05</td>\n",
       "    </tr>\n",
       "    <tr>\n",
       "      <th>1593</th>\n",
       "      <td>21499</td>\n",
       "      <td>1.053240e+05</td>\n",
       "    </tr>\n",
       "    <tr>\n",
       "      <th>909</th>\n",
       "      <td>33699</td>\n",
       "      <td>9.159027e+04</td>\n",
       "    </tr>\n",
       "    <tr>\n",
       "      <th>113</th>\n",
       "      <td>460000</td>\n",
       "      <td>4.644063e+05</td>\n",
       "    </tr>\n",
       "    <tr>\n",
       "      <th>1248</th>\n",
       "      <td>90000</td>\n",
       "      <td>9.431873e+04</td>\n",
       "    </tr>\n",
       "    <tr>\n",
       "      <th>545</th>\n",
       "      <td>1065000</td>\n",
       "      <td>5.154227e+05</td>\n",
       "    </tr>\n",
       "    <tr>\n",
       "      <th>1456</th>\n",
       "      <td>9999</td>\n",
       "      <td>9.218652e+04</td>\n",
       "    </tr>\n",
       "    <tr>\n",
       "      <th>1726</th>\n",
       "      <td>17399</td>\n",
       "      <td>1.015324e+05</td>\n",
       "    </tr>\n",
       "    <tr>\n",
       "      <th>1077</th>\n",
       "      <td>90000</td>\n",
       "      <td>1.022233e+05</td>\n",
       "    </tr>\n",
       "    <tr>\n",
       "      <th>1617</th>\n",
       "      <td>72500</td>\n",
       "      <td>8.682749e+04</td>\n",
       "    </tr>\n",
       "    <tr>\n",
       "      <th>1540</th>\n",
       "      <td>80599</td>\n",
       "      <td>8.841067e+04</td>\n",
       "    </tr>\n",
       "    <tr>\n",
       "      <th>771</th>\n",
       "      <td>710000</td>\n",
       "      <td>6.333791e+05</td>\n",
       "    </tr>\n",
       "    <tr>\n",
       "      <th>838</th>\n",
       "      <td>92499</td>\n",
       "      <td>1.023003e+05</td>\n",
       "    </tr>\n",
       "    <tr>\n",
       "      <th>1367</th>\n",
       "      <td>97999</td>\n",
       "      <td>9.676084e+04</td>\n",
       "    </tr>\n",
       "    <tr>\n",
       "      <th>990</th>\n",
       "      <td>15899</td>\n",
       "      <td>9.355357e+04</td>\n",
       "    </tr>\n",
       "    <tr>\n",
       "      <th>1641</th>\n",
       "      <td>14599</td>\n",
       "      <td>9.110029e+04</td>\n",
       "    </tr>\n",
       "    <tr>\n",
       "      <th>1582</th>\n",
       "      <td>88099</td>\n",
       "      <td>8.262176e+04</td>\n",
       "    </tr>\n",
       "    <tr>\n",
       "      <th>1532</th>\n",
       "      <td>93399</td>\n",
       "      <td>1.093735e+05</td>\n",
       "    </tr>\n",
       "    <tr>\n",
       "      <th>734</th>\n",
       "      <td>875000</td>\n",
       "      <td>6.456499e+05</td>\n",
       "    </tr>\n",
       "    <tr>\n",
       "      <th>1235</th>\n",
       "      <td>22799</td>\n",
       "      <td>1.009167e+05</td>\n",
       "    </tr>\n",
       "    <tr>\n",
       "      <th>222</th>\n",
       "      <td>510000</td>\n",
       "      <td>4.695349e+05</td>\n",
       "    </tr>\n",
       "    <tr>\n",
       "      <th>217</th>\n",
       "      <td>350000</td>\n",
       "      <td>3.354857e+05</td>\n",
       "    </tr>\n",
       "    <tr>\n",
       "      <th>1727</th>\n",
       "      <td>796899</td>\n",
       "      <td>1.088200e+05</td>\n",
       "    </tr>\n",
       "    <tr>\n",
       "      <th>859</th>\n",
       "      <td>50899</td>\n",
       "      <td>1.127402e+05</td>\n",
       "    </tr>\n",
       "    <tr>\n",
       "      <th>119</th>\n",
       "      <td>575000</td>\n",
       "      <td>4.821103e+05</td>\n",
       "    </tr>\n",
       "    <tr>\n",
       "      <th>...</th>\n",
       "      <td>...</td>\n",
       "      <td>...</td>\n",
       "    </tr>\n",
       "    <tr>\n",
       "      <th>1392</th>\n",
       "      <td>35199</td>\n",
       "      <td>9.560156e+04</td>\n",
       "    </tr>\n",
       "    <tr>\n",
       "      <th>96</th>\n",
       "      <td>580000</td>\n",
       "      <td>5.975319e+05</td>\n",
       "    </tr>\n",
       "    <tr>\n",
       "      <th>352</th>\n",
       "      <td>1175000</td>\n",
       "      <td>8.978429e+05</td>\n",
       "    </tr>\n",
       "    <tr>\n",
       "      <th>499</th>\n",
       "      <td>325000</td>\n",
       "      <td>2.981765e+05</td>\n",
       "    </tr>\n",
       "    <tr>\n",
       "      <th>790</th>\n",
       "      <td>75099</td>\n",
       "      <td>9.849308e+04</td>\n",
       "    </tr>\n",
       "    <tr>\n",
       "      <th>1371</th>\n",
       "      <td>67000</td>\n",
       "      <td>1.103250e+05</td>\n",
       "    </tr>\n",
       "    <tr>\n",
       "      <th>1483</th>\n",
       "      <td>55799</td>\n",
       "      <td>8.913631e+04</td>\n",
       "    </tr>\n",
       "    <tr>\n",
       "      <th>153</th>\n",
       "      <td>195000</td>\n",
       "      <td>2.123988e+05</td>\n",
       "    </tr>\n",
       "    <tr>\n",
       "      <th>617</th>\n",
       "      <td>700000</td>\n",
       "      <td>6.194522e+05</td>\n",
       "    </tr>\n",
       "    <tr>\n",
       "      <th>234</th>\n",
       "      <td>590000</td>\n",
       "      <td>5.254638e+05</td>\n",
       "    </tr>\n",
       "    <tr>\n",
       "      <th>149</th>\n",
       "      <td>700000</td>\n",
       "      <td>6.194522e+05</td>\n",
       "    </tr>\n",
       "    <tr>\n",
       "      <th>1025</th>\n",
       "      <td>86399</td>\n",
       "      <td>9.674925e+04</td>\n",
       "    </tr>\n",
       "    <tr>\n",
       "      <th>905</th>\n",
       "      <td>17499</td>\n",
       "      <td>9.315059e+04</td>\n",
       "    </tr>\n",
       "    <tr>\n",
       "      <th>1287</th>\n",
       "      <td>94899</td>\n",
       "      <td>9.548550e+04</td>\n",
       "    </tr>\n",
       "    <tr>\n",
       "      <th>296</th>\n",
       "      <td>1951000</td>\n",
       "      <td>1.606854e+06</td>\n",
       "    </tr>\n",
       "    <tr>\n",
       "      <th>989</th>\n",
       "      <td>87399</td>\n",
       "      <td>9.064953e+04</td>\n",
       "    </tr>\n",
       "    <tr>\n",
       "      <th>1194</th>\n",
       "      <td>2000</td>\n",
       "      <td>9.782941e+04</td>\n",
       "    </tr>\n",
       "    <tr>\n",
       "      <th>1215</th>\n",
       "      <td>60000</td>\n",
       "      <td>1.333618e+05</td>\n",
       "    </tr>\n",
       "    <tr>\n",
       "      <th>1065</th>\n",
       "      <td>77299</td>\n",
       "      <td>9.218652e+04</td>\n",
       "    </tr>\n",
       "    <tr>\n",
       "      <th>266</th>\n",
       "      <td>700000</td>\n",
       "      <td>6.194522e+05</td>\n",
       "    </tr>\n",
       "    <tr>\n",
       "      <th>625</th>\n",
       "      <td>510000</td>\n",
       "      <td>4.728976e+05</td>\n",
       "    </tr>\n",
       "    <tr>\n",
       "      <th>433</th>\n",
       "      <td>800000</td>\n",
       "      <td>6.455272e+05</td>\n",
       "    </tr>\n",
       "    <tr>\n",
       "      <th>1237</th>\n",
       "      <td>1599</td>\n",
       "      <td>1.085296e+05</td>\n",
       "    </tr>\n",
       "    <tr>\n",
       "      <th>1043</th>\n",
       "      <td>75899</td>\n",
       "      <td>9.001501e+04</td>\n",
       "    </tr>\n",
       "    <tr>\n",
       "      <th>441</th>\n",
       "      <td>199000</td>\n",
       "      <td>2.160985e+05</td>\n",
       "    </tr>\n",
       "    <tr>\n",
       "      <th>330</th>\n",
       "      <td>227000</td>\n",
       "      <td>3.108252e+05</td>\n",
       "    </tr>\n",
       "    <tr>\n",
       "      <th>28</th>\n",
       "      <td>550000</td>\n",
       "      <td>5.154227e+05</td>\n",
       "    </tr>\n",
       "    <tr>\n",
       "      <th>121</th>\n",
       "      <td>360000</td>\n",
       "      <td>3.524167e+05</td>\n",
       "    </tr>\n",
       "    <tr>\n",
       "      <th>851</th>\n",
       "      <td>4799</td>\n",
       "      <td>1.020638e+05</td>\n",
       "    </tr>\n",
       "    <tr>\n",
       "      <th>431</th>\n",
       "      <td>510000</td>\n",
       "      <td>4.728976e+05</td>\n",
       "    </tr>\n",
       "  </tbody>\n",
       "</table>\n",
       "<p>435 rows × 2 columns</p>\n",
       "</div>"
      ],
      "text/plain": [
       "      Original_price  Predicted_price\n",
       "1761           39299     9.343564e+04\n",
       "1138           46799     9.648360e+04\n",
       "1697           89099     9.160918e+04\n",
       "199            80000     1.352179e+05\n",
       "1227           19000     9.571343e+04\n",
       "492           590000     5.296719e+05\n",
       "1593           21499     1.053240e+05\n",
       "909            33699     9.159027e+04\n",
       "113           460000     4.644063e+05\n",
       "1248           90000     9.431873e+04\n",
       "545          1065000     5.154227e+05\n",
       "1456            9999     9.218652e+04\n",
       "1726           17399     1.015324e+05\n",
       "1077           90000     1.022233e+05\n",
       "1617           72500     8.682749e+04\n",
       "1540           80599     8.841067e+04\n",
       "771           710000     6.333791e+05\n",
       "838            92499     1.023003e+05\n",
       "1367           97999     9.676084e+04\n",
       "990            15899     9.355357e+04\n",
       "1641           14599     9.110029e+04\n",
       "1582           88099     8.262176e+04\n",
       "1532           93399     1.093735e+05\n",
       "734           875000     6.456499e+05\n",
       "1235           22799     1.009167e+05\n",
       "222           510000     4.695349e+05\n",
       "217           350000     3.354857e+05\n",
       "1727          796899     1.088200e+05\n",
       "859            50899     1.127402e+05\n",
       "119           575000     4.821103e+05\n",
       "...              ...              ...\n",
       "1392           35199     9.560156e+04\n",
       "96            580000     5.975319e+05\n",
       "352          1175000     8.978429e+05\n",
       "499           325000     2.981765e+05\n",
       "790            75099     9.849308e+04\n",
       "1371           67000     1.103250e+05\n",
       "1483           55799     8.913631e+04\n",
       "153           195000     2.123988e+05\n",
       "617           700000     6.194522e+05\n",
       "234           590000     5.254638e+05\n",
       "149           700000     6.194522e+05\n",
       "1025           86399     9.674925e+04\n",
       "905            17499     9.315059e+04\n",
       "1287           94899     9.548550e+04\n",
       "296          1951000     1.606854e+06\n",
       "989            87399     9.064953e+04\n",
       "1194            2000     9.782941e+04\n",
       "1215           60000     1.333618e+05\n",
       "1065           77299     9.218652e+04\n",
       "266           700000     6.194522e+05\n",
       "625           510000     4.728976e+05\n",
       "433           800000     6.455272e+05\n",
       "1237            1599     1.085296e+05\n",
       "1043           75899     9.001501e+04\n",
       "441           199000     2.160985e+05\n",
       "330           227000     3.108252e+05\n",
       "28            550000     5.154227e+05\n",
       "121           360000     3.524167e+05\n",
       "851             4799     1.020638e+05\n",
       "431           510000     4.728976e+05\n",
       "\n",
       "[435 rows x 2 columns]"
      ]
     },
     "execution_count": 66,
     "metadata": {},
     "output_type": "execute_result"
    }
   ],
   "source": [
    "#Comparing actual and predicted values with the help of a dataframe\n",
    "predictions=pd.DataFrame({'Original_price':y_test, 'Predicted_price':y_pred})\n",
    "predictions"
   ]
  },
  {
   "cell_type": "markdown",
   "metadata": {},
   "source": [
    "### Saving Model"
   ]
  },
  {
   "cell_type": "code",
   "execution_count": 67,
   "metadata": {},
   "outputs": [],
   "source": [
    "## savig model\n",
    "filename= \"CarPrice_prediction.pickle\"\n",
    "pickle.dump(gbr, open(filename, 'wb'))"
   ]
  },
  {
   "cell_type": "code",
   "execution_count": 68,
   "metadata": {},
   "outputs": [],
   "source": [
    "#Saving the predicted values\n",
    "results=pd.DataFrame(predictions)\n",
    "results.to_csv('Car_Price_Prediction_Results.csv')"
   ]
  },
  {
   "cell_type": "code",
   "execution_count": null,
   "metadata": {},
   "outputs": [],
   "source": []
  }
 ],
 "metadata": {
  "kernelspec": {
   "display_name": "Python 3",
   "language": "python",
   "name": "python3"
  },
  "language_info": {
   "codemirror_mode": {
    "name": "ipython",
    "version": 3
   },
   "file_extension": ".py",
   "mimetype": "text/x-python",
   "name": "python",
   "nbconvert_exporter": "python",
   "pygments_lexer": "ipython3",
   "version": "3.7.3"
  }
 },
 "nbformat": 4,
 "nbformat_minor": 2
}
